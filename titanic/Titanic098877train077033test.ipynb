{
 "cells": [
  {
   "cell_type": "code",
   "execution_count": 429,
   "metadata": {},
   "outputs": [],
   "source": [
    "import pandas as pd\n",
    "import seaborn as sns\n",
    "import numpy as np\n",
    "import matplotlib.pyplot as plt\n",
    "from scipy import stats"
   ]
  },
  {
   "cell_type": "code",
   "execution_count": 430,
   "metadata": {},
   "outputs": [],
   "source": [
    "df_train = pd.read_csv('./data/train.csv')\n",
    "df_test = pd.read_csv('./data/test.csv')\n",
    "y_train = df_train.loc[:, 'Survived']\n",
    "all_data = pd.concat([df_train.drop(columns='Survived'), df_test])"
   ]
  },
  {
   "cell_type": "code",
   "execution_count": 431,
   "metadata": {},
   "outputs": [],
   "source": [
    "import re\n",
    "def n_s(text):\n",
    "    a = text.split()\n",
    "    if len(a) > 1:\n",
    "        a[0] = re.sub(r'[^a-zA-Z]','',a[0])\n",
    "        return a[0]\n",
    "    else:\n",
    "        return 'X'\n",
    "all_data['Ticket'] = all_data['Ticket'].apply(n_s)\n",
    "all_data['Male'] = (all_data['Sex'] == 'male')*1.0\n",
    "all_data = all_data.drop(columns='Sex')\n",
    "all_data = all_data.drop(columns='Name')\n",
    "from sklearn.linear_model import Lasso\n",
    "def predict_numerical_nan_values(data, feature, id_col):\n",
    "    train = data[data[feature].notna()]\n",
    "    test = data[data[feature].isna()].drop(columns=[feature, id_col])\n",
    "    y = train[feature]\n",
    "    notna_cols = (data.drop(columns=[feature, id_col]).isna().sum()== 0).values\n",
    "    num_data = pd.get_dummies(data.iloc[:, notna_cols])\n",
    "   \n",
    "    X = num_data[num_data[feature].notna()].drop(columns=[feature, id_col])\n",
    "    \n",
    "    test = num_data[num_data[feature].isna()].drop(columns=[feature, id_col])\n",
    "    model = Lasso().fit(X, y)\n",
    "    preds = model.predict(test)\n",
    "    data.loc[data[feature].isna(),feature] = preds\n",
    "predict_numerical_nan_values(all_data, 'Age', 'PassengerId')"
   ]
  },
  {
   "cell_type": "code",
   "execution_count": 432,
   "metadata": {},
   "outputs": [],
   "source": [
    "\n",
    "all_data['Embarked'] = all_data['Embarked'].fillna('S')\n",
    "all_data['Fare'] = all_data['Fare'].fillna(all_data['Fare'].mean())\n",
    "all_data = all_data.drop(columns='PassengerId')\n",
    "#all_data = all_data.drop(columns='Cabin')\n",
    "all_data['Age'] = (all_data['Age'] - all_data['Age'].min())/ (all_data['Age'].max() - all_data['Age'].min())\n",
    "all_data['Fare'] = (all_data['Fare'] - all_data['Fare'].min())/ (all_data['Fare'].max() - all_data['Fare'].min())\n",
    "all_data = pd.get_dummies(all_data)"
   ]
  },
  {
   "cell_type": "code",
   "execution_count": 433,
   "metadata": {},
   "outputs": [],
   "source": [
    "X_train = all_data.iloc[:df_train.shape[0],:]\n",
    "X_test = all_data.iloc[df_train.shape[0]:, :]"
   ]
  },
  {
   "cell_type": "code",
   "execution_count": 434,
   "metadata": {},
   "outputs": [
    {
     "data": {
      "text/plain": [
       "{'whiskers': [<matplotlib.lines.Line2D at 0x7f6826ffb9b0>,\n",
       "  <matplotlib.lines.Line2D at 0x7f6826ffbdd8>,\n",
       "  <matplotlib.lines.Line2D at 0x7f68270826a0>,\n",
       "  <matplotlib.lines.Line2D at 0x7f68270892e8>],\n",
       " 'caps': [<matplotlib.lines.Line2D at 0x7f68270b1518>,\n",
       "  <matplotlib.lines.Line2D at 0x7f68270b12e8>,\n",
       "  <matplotlib.lines.Line2D at 0x7f68270a2f60>,\n",
       "  <matplotlib.lines.Line2D at 0x7f68270a2518>],\n",
       " 'boxes': [<matplotlib.lines.Line2D at 0x7f68270c60f0>,\n",
       "  <matplotlib.lines.Line2D at 0x7f6827082748>],\n",
       " 'medians': [<matplotlib.lines.Line2D at 0x7f68270b1f60>,\n",
       "  <matplotlib.lines.Line2D at 0x7f68270a20b8>],\n",
       " 'fliers': [<matplotlib.lines.Line2D at 0x7f68270822b0>,\n",
       "  <matplotlib.lines.Line2D at 0x7f6826ffdb70>],\n",
       " 'means': []}"
      ]
     },
     "execution_count": 434,
     "metadata": {},
     "output_type": "execute_result"
    },
    {
     "data": {
      "image/png": "[encoded data removed]",
      "text/plain": [
       "<Figure size 432x288 with 1 Axes>"
      ]
     },
     "metadata": {
      "needs_background": "light"
     },
     "output_type": "display_data"
    }
   ],
   "source": [
    "plt.boxplot([X_train.loc[y_train== 1,'Fare'],X_train.loc[y_train== 0,'Fare']] )"
   ]
  },
  {
   "cell_type": "code",
   "execution_count": 435,
   "metadata": {},
   "outputs": [],
   "source": [
    "from sklearn.svm import SVC\n",
    "from sklearn.linear_model import SGDClassifier,LogisticRegression\n",
    "from sklearn.neighbors import KNeighborsClassifier\n",
    "from sklearn.naive_bayes import GaussianNB\n",
    "from sklearn.ensemble import RandomForestClassifier, VotingClassifier"
   ]
  },
  {
   "cell_type": "code",
   "execution_count": 436,
   "metadata": {},
   "outputs": [
    {
     "name": "stderr",
     "output_type": "stream",
     "text": [
      "/home/matheus/.local/lib/python3.6/site-packages/sklearn/linear_model/logistic.py:757: ConvergenceWarning: lbfgs failed to converge. Increase the number of iterations.\n",
      "  \"of iterations.\", ConvergenceWarning)\n"
     ]
    },
    {
     "name": "stdout",
     "output_type": "stream",
     "text": [
      "0.7968574635241302\n",
      "0.8540965207631874\n",
      "0.8866442199775533\n",
      "0.8574635241301908\n",
      "0.9910213243546577\n",
      "0.7508417508417509\n"
     ]
    }
   ],
   "source": [
    "svm_clf = SVC(gamma='scale')\n",
    "sgd_clf = SGDClassifier(max_iter=1000, tol=1e-3)\n",
    "knn_clf = KNeighborsClassifier(n_neighbors=3)\n",
    "lr_clf = LogisticRegression(solver='lbfgs', multi_class='multinomial',random_state=1)\n",
    "rf_clf = RandomForestClassifier(n_estimators=50, random_state=1)\n",
    "gnb_clf = GaussianNB()\n",
    "svm_clf.fit(X_train, y_train)\n",
    "sgd_clf.fit(X_train, y_train)\n",
    "knn_clf.fit(X_train, y_train)\n",
    "lr_clf.fit(X_train, y_train)\n",
    "rf_clf.fit(X_train, y_train)\n",
    "gnb_clf.fit(X_train, y_train)\n",
    "print(svm_clf.score(X_train, y_train))\n",
    "print(sgd_clf.score(X_train, y_train))\n",
    "print(knn_clf.score(X_train, y_train))\n",
    "print(lr_clf.score(X_train, y_train))\n",
    "print(rf_clf.score(X_train, y_train))\n",
    "print(gnb_clf.score(X_train, y_train))"
   ]
  },
  {
   "cell_type": "code",
   "execution_count": 437,
   "metadata": {},
   "outputs": [
    {
     "data": {
      "text/plain": [
       "VotingClassifier(estimators=[('svm', SVC(C=1.0, cache_size=200, class_weight=None, coef0=0.0,\n",
       "  decision_function_shape='ovr', degree=3, gamma='scale', kernel='rbf',\n",
       "  max_iter=-1, probability=False, random_state=None, shrinking=True,\n",
       "  tol=0.001, verbose=False)), ('sgd', SGDClassifier(alpha=0.0001, average=False, c...andom_state=1, verbose=0, warm_start=False)), ('gnb', GaussianNB(priors=None, var_smoothing=1e-09))],\n",
       "         flatten_transform=None, n_jobs=None, voting='hard',\n",
       "         weights=[0.5, 1, 1, 2, 0.5])"
      ]
     },
     "execution_count": 437,
     "metadata": {},
     "output_type": "execute_result"
    }
   ],
   "source": [
    "\n",
    "eclf1 = VotingClassifier(estimators=[('svm', svm_clf), ('sgd', sgd_clf), ('knn', knn_clf), ('rf', rf_clf), ('gnb', gnb_clf)], voting='hard', weights=[0.5,1,1,2,0.5])\n",
    "eclf1.fit(X_train, y_train)"
   ]
  },
  {
   "cell_type": "code",
   "execution_count": 438,
   "metadata": {},
   "outputs": [
    {
     "data": {
      "text/plain": [
       "0.9887766554433222"
      ]
     },
     "execution_count": 438,
     "metadata": {},
     "output_type": "execute_result"
    }
   ],
   "source": [
    "eclf1.score(X_train, y_train)"
   ]
  },
  {
   "cell_type": "code",
   "execution_count": 439,
   "metadata": {},
   "outputs": [],
   "source": [
    "y_pred = eclf1.predict(X_test)\n"
   ]
  },
  {
   "cell_type": "code",
   "execution_count": 440,
   "metadata": {},
   "outputs": [],
   "source": [
    "df_test['Survived'] = y_pred\n",
    "preds = df_test.loc[:, ['PassengerId','Survived']]"
   ]
  },
  {
   "cell_type": "code",
   "execution_count": 441,
   "metadata": {},
   "outputs": [
    {
     "data": {
      "text/html": [
       "<div>\n",
       "<style scoped>\n",
       "    .dataframe tbody tr th:only-of-type {\n",
       "        vertical-align: middle;\n",
       "    }\n",
       "\n",
       "    .dataframe tbody tr th {\n",
       "        vertical-align: top;\n",
       "    }\n",
       "\n",
       "    .dataframe thead th {\n",
       "        text-align: right;\n",
       "    }\n",
       "</style>\n",
       "<table border=\"1\" class=\"dataframe\">\n",
       "  <thead>\n",
       "    <tr style=\"text-align: right;\">\n",
       "      <th></th>\n",
       "      <th>0</th>\n",
       "    </tr>\n",
       "    <tr>\n",
       "      <th>PassengerId</th>\n",
       "      <th></th>\n",
       "    </tr>\n",
       "  </thead>\n",
       "  <tbody>\n",
       "    <tr>\n",
       "      <th>892</th>\n",
       "      <td>0</td>\n",
       "    </tr>\n",
       "    <tr>\n",
       "      <th>893</th>\n",
       "      <td>0</td>\n",
       "    </tr>\n",
       "    <tr>\n",
       "      <th>894</th>\n",
       "      <td>0</td>\n",
       "    </tr>\n",
       "    <tr>\n",
       "      <th>895</th>\n",
       "      <td>1</td>\n",
       "    </tr>\n",
       "    <tr>\n",
       "      <th>896</th>\n",
       "      <td>1</td>\n",
       "    </tr>\n",
       "  </tbody>\n",
       "</table>\n",
       "</div>"
      ],
      "text/plain": [
       "             0\n",
       "PassengerId   \n",
       "892          0\n",
       "893          0\n",
       "894          0\n",
       "895          1\n",
       "896          1"
      ]
     },
     "execution_count": 441,
     "metadata": {},
     "output_type": "execute_result"
    }
   ],
   "source": [
    "preds.to_csv('preds.csv', index=False)"
   ]
  },
  {
   "cell_type": "code",
   "execution_count": null,
   "metadata": {},
   "outputs": [],
   "source": []
  }
 ],
 "metadata": {
  "kernelspec": {
   "display_name": "Python 3",
   "language": "python",
   "name": "python3"
  },
  "language_info": {
   "codemirror_mode": {
    "name": "ipython",
    "version": 3
   },
   "file_extension": ".py",
   "mimetype": "text/x-python",
   "name": "python",
   "nbconvert_exporter": "python",
   "pygments_lexer": "ipython3",
   "version": "3.6.5"
  }
 },
 "nbformat": 4,
 "nbformat_minor": 2
}
