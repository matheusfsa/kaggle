{
 "cells": [
  {
   "cell_type": "code",
   "execution_count": 59,
   "metadata": {},
   "outputs": [],
   "source": [
    "import pandas as pd\n",
    "import seaborn as sns\n",
    "import numpy as np\n",
    "import matplotlib.pyplot as plt\n",
    "from scipy import stats"
   ]
  },
  {
   "cell_type": "code",
   "execution_count": 60,
   "metadata": {},
   "outputs": [],
   "source": [
    "df_train = pd.read_csv('./data/train.csv')\n",
    "df_test = pd.read_csv('./data/test.csv')\n",
    "y_train = df_train.loc[:, 'Survived']\n",
    "all_data = pd.concat([df_train.drop(columns='Survived'), df_test])"
   ]
  },
  {
   "cell_type": "code",
   "execution_count": 53,
   "metadata": {},
   "outputs": [
    {
     "name": "stdout",
     "output_type": "stream",
     "text": [
      "<class 'pandas.core.frame.DataFrame'>\n",
      "Int64Index: 1309 entries, 0 to 417\n",
      "Data columns (total 11 columns):\n",
      "PassengerId    1309 non-null int64\n",
      "Pclass         1309 non-null int64\n",
      "Name           1309 non-null object\n",
      "Sex            1309 non-null object\n",
      "Age            1046 non-null float64\n",
      "SibSp          1309 non-null int64\n",
      "Parch          1309 non-null int64\n",
      "Ticket         1309 non-null object\n",
      "Fare           1308 non-null float64\n",
      "Cabin          295 non-null object\n",
      "Embarked       1307 non-null object\n",
      "dtypes: float64(2), int64(4), object(5)\n",
      "memory usage: 122.7+ KB\n"
     ]
    }
   ],
   "source": [
    "all_data.info()"
   ]
  },
  {
   "cell_type": "code",
   "execution_count": 23,
   "metadata": {},
   "outputs": [],
   "source": []
  },
  {
   "cell_type": "code",
   "execution_count": 61,
   "metadata": {},
   "outputs": [],
   "source": [
    "import re\n",
    "def n_s(text):\n",
    "    a = text.split()\n",
    "    if len(a) > 1:\n",
    "        a[0] = re.sub(r'[^a-zA-Z]','',a[0])\n",
    "        return a[0]\n",
    "    else:\n",
    "        return 'X'\n",
    "all_data['Ticket'] = all_data['Ticket'].apply(n_s)\n",
    "all_data['Male'] = (all_data['Sex'] == 'male')*1.0\n",
    "all_data = all_data.drop(columns='Sex')\n",
    "all_data = all_data.drop(columns='Name')\n",
    "from sklearn.linear_model import Lasso\n",
    "def predict_numerical_nan_values(data, feature, id_col):\n",
    "    train = data[data[feature].notna()]\n",
    "    test = data[data[feature].isna()].drop(columns=[feature, id_col])\n",
    "    y = train[feature]\n",
    "    notna_cols = (data.drop(columns=[feature, id_col]).isna().sum()== 0).values\n",
    "    num_data = pd.get_dummies(data.iloc[:, notna_cols])\n",
    "   \n",
    "    X = num_data[num_data[feature].notna()].drop(columns=[feature, id_col])\n",
    "    \n",
    "    test = num_data[num_data[feature].isna()].drop(columns=[feature, id_col])\n",
    "    model = Lasso().fit(X, y)\n",
    "    preds = model.predict(test)\n",
    "    data.loc[data[feature].isna(),feature] = preds\n",
    "predict_numerical_nan_values(all_data, 'Age', 'PassengerId')"
   ]
  },
  {
   "cell_type": "code",
   "execution_count": 62,
   "metadata": {},
   "outputs": [],
   "source": [
    "\n",
    "all_data['Embarked'] = all_data['Embarked'].fillna('S')\n",
    "all_data['Fare'] = all_data['Fare'].fillna(all_data['Fare'].mean())\n",
    "all_data = all_data.drop(columns='PassengerId')\n",
    "#all_data = all_data.drop(columns='Cabin')\n",
    "all_data['Age'] = (all_data['Age'] - all_data['Age'].min())/ (all_data['Age'].max() - all_data['Age'].min())\n",
    "all_data['Fare'] = (all_data['Fare'] - all_data['Fare'].min())/ (all_data['Fare'].max() - all_data['Fare'].min())\n",
    "all_data = pd.get_dummies(all_data)"
   ]
  },
  {
   "cell_type": "code",
   "execution_count": 63,
   "metadata": {},
   "outputs": [],
   "source": [
    "X_train = all_data.iloc[:df_train.shape[0],:]\n",
    "X_test = all_data.iloc[df_train.shape[0]:, :]"
   ]
  },
  {
   "cell_type": "code",
   "execution_count": 29,
   "metadata": {},
   "outputs": [
    {
     "data": {
      "text/plain": [
       "{'whiskers': [<matplotlib.lines.Line2D at 0x7fefbd192e80>,\n",
       "  <matplotlib.lines.Line2D at 0x7fefbd1928d0>,\n",
       "  <matplotlib.lines.Line2D at 0x7fefbd186ba8>,\n",
       "  <matplotlib.lines.Line2D at 0x7fefbd186ef0>],\n",
       " 'caps': [<matplotlib.lines.Line2D at 0x7fefbd1964e0>,\n",
       "  <matplotlib.lines.Line2D at 0x7fefbd1962b0>,\n",
       "  <matplotlib.lines.Line2D at 0x7fefbd1492b0>,\n",
       "  <matplotlib.lines.Line2D at 0x7fefbd1495f8>],\n",
       " 'boxes': [<matplotlib.lines.Line2D at 0x7fefbd1925f8>,\n",
       "  <matplotlib.lines.Line2D at 0x7fefbd186f98>],\n",
       " 'medians': [<matplotlib.lines.Line2D at 0x7fefbd186128>,\n",
       "  <matplotlib.lines.Line2D at 0x7fefbd149940>],\n",
       " 'fliers': [<matplotlib.lines.Line2D at 0x7fefbd186828>,\n",
       "  <matplotlib.lines.Line2D at 0x7fefbd149c88>],\n",
       " 'means': []}"
      ]
     },
     "execution_count": 29,
     "metadata": {},
     "output_type": "execute_result"
    },
    {
     "data": {
      "image/png": "[encoded data removed]",
      "text/plain": [
       "<Figure size 432x288 with 1 Axes>"
      ]
     },
     "metadata": {
      "needs_background": "light"
     },
     "output_type": "display_data"
    }
   ],
   "source": [
    "plt.boxplot([X_train.loc[y_train== 1,'Fare'],X_train.loc[y_train== 0,'Fare']] )"
   ]
  },
  {
   "cell_type": "code",
   "execution_count": 30,
   "metadata": {},
   "outputs": [],
   "source": [
    "from sklearn.svm import SVC\n",
    "from sklearn.linear_model import SGDClassifier,LogisticRegression\n",
    "from sklearn.neighbors import KNeighborsClassifier\n",
    "from sklearn.naive_bayes import GaussianNB\n",
    "from sklearn.ensemble import RandomForestClassifier, VotingClassifier"
   ]
  },
  {
   "cell_type": "code",
   "execution_count": 31,
   "metadata": {},
   "outputs": [
    {
     "name": "stderr",
     "output_type": "stream",
     "text": [
      "/home/matheus/.local/lib/python3.6/site-packages/sklearn/linear_model/logistic.py:757: ConvergenceWarning: lbfgs failed to converge. Increase the number of iterations.\n",
      "  \"of iterations.\", ConvergenceWarning)\n"
     ]
    },
    {
     "name": "stdout",
     "output_type": "stream",
     "text": [
      "0.7968574635241302\n",
      "0.8574635241301908\n",
      "0.8866442199775533\n",
      "0.8574635241301908\n",
      "0.9910213243546577\n",
      "0.7508417508417509\n"
     ]
    }
   ],
   "source": [
    "svm_clf = SVC(gamma='scale')\n",
    "sgd_clf = SGDClassifier(max_iter=1000, tol=1e-3)\n",
    "knn_clf = KNeighborsClassifier(n_neighbors=3)\n",
    "lr_clf = LogisticRegression(solver='lbfgs', multi_class='multinomial',random_state=1)\n",
    "rf_clf = RandomForestClassifier(n_estimators=50, random_state=1)\n",
    "gnb_clf = GaussianNB()\n",
    "svm_clf.fit(X_train, y_train)\n",
    "sgd_clf.fit(X_train, y_train)\n",
    "knn_clf.fit(X_train, y_train)\n",
    "lr_clf.fit(X_train, y_train)\n",
    "rf_clf.fit(X_train, y_train)\n",
    "gnb_clf.fit(X_train, y_train)\n",
    "print(svm_clf.score(X_train, y_train))\n",
    "print(sgd_clf.score(X_train, y_train))\n",
    "print(knn_clf.score(X_train, y_train))\n",
    "print(lr_clf.score(X_train, y_train))\n",
    "print(rf_clf.score(X_train, y_train))\n",
    "print(gnb_clf.score(X_train, y_train))"
   ]
  },
  {
   "cell_type": "code",
   "execution_count": 44,
   "metadata": {},
   "outputs": [
    {
     "data": {
      "text/plain": [
       "VotingClassifier(estimators=[('svm', SVC(C=1.0, cache_size=200, class_weight=None, coef0=0.0,\n",
       "  decision_function_shape='ovr', degree=3, gamma='scale', kernel='rbf',\n",
       "  max_iter=-1, probability=False, random_state=None, shrinking=True,\n",
       "  tol=0.001, verbose=False)), ('sgd', SGDClassifier(alpha=0.0001, average=False, c...andom_state=1, verbose=0, warm_start=False)), ('gnb', GaussianNB(priors=None, var_smoothing=1e-09))],\n",
       "         flatten_transform=None, n_jobs=None, voting='hard',\n",
       "         weights=[0.0, 0, 0, 1, 0.0])"
      ]
     },
     "execution_count": 44,
     "metadata": {},
     "output_type": "execute_result"
    }
   ],
   "source": [
    "\n",
    "eclf1 = VotingClassifier(estimators=[('svm', svm_clf), ('sgd', sgd_clf), ('knn', knn_clf), ('rf', rf_clf), ('gnb', gnb_clf)], voting='hard', weights=[0.0,0,0,1,0.0])\n",
    "eclf1.fit(X_train, y_train)"
   ]
  },
  {
   "cell_type": "code",
   "execution_count": 45,
   "metadata": {},
   "outputs": [
    {
     "data": {
      "text/plain": [
       "0.9910213243546577"
      ]
     },
     "execution_count": 45,
     "metadata": {},
     "output_type": "execute_result"
    }
   ],
   "source": [
    "eclf1.score(X_train, y_train)"
   ]
  },
  {
   "cell_type": "code",
   "execution_count": 46,
   "metadata": {},
   "outputs": [],
   "source": [
    "y_pred = eclf1.predict(X_test)"
   ]
  },
  {
   "cell_type": "code",
   "execution_count": 47,
   "metadata": {},
   "outputs": [],
   "source": [
    "df_test['Survived'] = y_pred\n",
    "preds = df_test.loc[:, ['PassengerId','Survived']]"
   ]
  },
  {
   "cell_type": "code",
   "execution_count": 48,
   "metadata": {},
   "outputs": [
    {
     "data": {
      "text/html": [
       "<div>\n",
       "<style scoped>\n",
       "    .dataframe tbody tr th:only-of-type {\n",
       "        vertical-align: middle;\n",
       "    }\n",
       "\n",
       "    .dataframe tbody tr th {\n",
       "        vertical-align: top;\n",
       "    }\n",
       "\n",
       "    .dataframe thead th {\n",
       "        text-align: right;\n",
       "    }\n",
       "</style>\n",
       "<table border=\"1\" class=\"dataframe\">\n",
       "  <thead>\n",
       "    <tr style=\"text-align: right;\">\n",
       "      <th></th>\n",
       "      <th>PassengerId</th>\n",
       "      <th>Survived</th>\n",
       "    </tr>\n",
       "  </thead>\n",
       "  <tbody>\n",
       "    <tr>\n",
       "      <th>0</th>\n",
       "      <td>892</td>\n",
       "      <td>0</td>\n",
       "    </tr>\n",
       "    <tr>\n",
       "      <th>1</th>\n",
       "      <td>893</td>\n",
       "      <td>0</td>\n",
       "    </tr>\n",
       "    <tr>\n",
       "      <th>2</th>\n",
       "      <td>894</td>\n",
       "      <td>0</td>\n",
       "    </tr>\n",
       "    <tr>\n",
       "      <th>3</th>\n",
       "      <td>895</td>\n",
       "      <td>1</td>\n",
       "    </tr>\n",
       "    <tr>\n",
       "      <th>4</th>\n",
       "      <td>896</td>\n",
       "      <td>1</td>\n",
       "    </tr>\n",
       "  </tbody>\n",
       "</table>\n",
       "</div>"
      ],
      "text/plain": [
       "   PassengerId  Survived\n",
       "0          892         0\n",
       "1          893         0\n",
       "2          894         0\n",
       "3          895         1\n",
       "4          896         1"
      ]
     },
     "execution_count": 48,
     "metadata": {},
     "output_type": "execute_result"
    }
   ],
   "source": [
    "preds.head()"
   ]
  },
  {
   "cell_type": "code",
   "execution_count": 49,
   "metadata": {},
   "outputs": [],
   "source": [
    "preds.to_csv('preds.csv', index=False)"
   ]
  },
  {
   "cell_type": "code",
   "execution_count": 64,
   "metadata": {},
   "outputs": [
    {
     "name": "stdout",
     "output_type": "stream",
     "text": [
      "1.12.0\n"
     ]
    }
   ],
   "source": [
    "from __future__ import absolute_import, division, print_function, unicode_literals, unicode_literals\n",
    "\n",
    "# TensorFlow e tf.keras\n",
    "import tensorflow as tf\n",
    "from tensorflow import keras\n",
    "\n",
    "# Bibliotecas de ajuda\n",
    "import numpy as np\n",
    "import matplotlib.pyplot as plt\n",
    "\n",
    "print(tf.__version__)"
   ]
  },
  {
   "cell_type": "code",
   "execution_count": 85,
   "metadata": {},
   "outputs": [],
   "source": [
    "model = keras.Sequential([\n",
    "    keras.layers.Dense(128, activation=tf.nn.relu),\n",
    "    keras.layers.Dense(2, activation=tf.nn.sigmoid)\n",
    "])"
   ]
  },
  {
   "cell_type": "code",
   "execution_count": 86,
   "metadata": {},
   "outputs": [],
   "source": [
    "model.compile(optimizer='adam',\n",
    "              loss='categorical_crossentropy',\n",
    "              metrics=['accuracy'])"
   ]
  },
  {
   "cell_type": "code",
   "execution_count": 87,
   "metadata": {},
   "outputs": [
    {
     "name": "stdout",
     "output_type": "stream",
     "text": [
      "Epoch 1/100\n",
      "891/891 [==============================] - 0s 274us/step - loss: 0.5323 - acc: 0.5589\n",
      "Epoch 2/100\n",
      "891/891 [==============================] - 0s 50us/step - loss: 0.5322 - acc: 0.4893\n",
      "Epoch 3/100\n",
      "891/891 [==============================] - 0s 45us/step - loss: 0.5321 - acc: 0.5387\n",
      "Epoch 4/100\n",
      "891/891 [==============================] - 0s 48us/step - loss: 0.5321 - acc: 0.4534\n",
      "Epoch 5/100\n",
      "891/891 [==============================] - 0s 51us/step - loss: 0.5321 - acc: 0.5095\n",
      "Epoch 6/100\n",
      "891/891 [==============================] - 0s 44us/step - loss: 0.5321 - acc: 0.4680\n",
      "Epoch 7/100\n",
      "891/891 [==============================] - 0s 49us/step - loss: 0.5321 - acc: 0.4826\n",
      "Epoch 8/100\n",
      "891/891 [==============================] - 0s 44us/step - loss: 0.5321 - acc: 0.4736\n",
      "Epoch 9/100\n",
      "891/891 [==============================] - 0s 49us/step - loss: 0.5321 - acc: 0.5387\n",
      "Epoch 10/100\n",
      "891/891 [==============================] - 0s 44us/step - loss: 0.5321 - acc: 0.5017\n",
      "Epoch 11/100\n",
      "891/891 [==============================] - 0s 50us/step - loss: 0.5321 - acc: 0.5769\n",
      "Epoch 12/100\n",
      "891/891 [==============================] - 0s 38us/step - loss: 0.5321 - acc: 0.5286\n",
      "Epoch 13/100\n",
      "891/891 [==============================] - 0s 57us/step - loss: 0.5321 - acc: 0.5342\n",
      "Epoch 14/100\n",
      "891/891 [==============================] - 0s 51us/step - loss: 0.5321 - acc: 0.5387\n",
      "Epoch 15/100\n",
      "891/891 [==============================] - 0s 49us/step - loss: 0.5321 - acc: 0.5477\n",
      "Epoch 16/100\n",
      "891/891 [==============================] - 0s 48us/step - loss: 0.5321 - acc: 0.5455\n",
      "Epoch 17/100\n",
      "891/891 [==============================] - 0s 39us/step - loss: 0.5321 - acc: 0.5208\n",
      "Epoch 18/100\n",
      "891/891 [==============================] - 0s 52us/step - loss: 0.5321 - acc: 0.4994\n",
      "Epoch 19/100\n",
      "891/891 [==============================] - 0s 55us/step - loss: 0.5321 - acc: 0.5645\n",
      "Epoch 20/100\n",
      "891/891 [==============================] - 0s 42us/step - loss: 0.5321 - acc: 0.5589\n",
      "Epoch 21/100\n",
      "891/891 [==============================] - 0s 46us/step - loss: 0.5321 - acc: 0.5230\n",
      "Epoch 22/100\n",
      "891/891 [==============================] - 0s 51us/step - loss: 0.5321 - acc: 0.5780\n",
      "Epoch 23/100\n",
      "891/891 [==============================] - 0s 46us/step - loss: 0.5321 - acc: 0.5926\n",
      "Epoch 24/100\n",
      "891/891 [==============================] - 0s 50us/step - loss: 0.5321 - acc: 0.4826\n",
      "Epoch 25/100\n",
      "891/891 [==============================] - 0s 52us/step - loss: 0.5321 - acc: 0.5286\n",
      "Epoch 26/100\n",
      "891/891 [==============================] - 0s 42us/step - loss: 0.5321 - acc: 0.5612\n",
      "Epoch 27/100\n",
      "891/891 [==============================] - 0s 58us/step - loss: 0.5321 - acc: 0.5421\n",
      "Epoch 28/100\n",
      "891/891 [==============================] - 0s 46us/step - loss: 0.5321 - acc: 0.5668\n",
      "Epoch 29/100\n",
      "891/891 [==============================] - 0s 55us/step - loss: 0.5321 - acc: 0.5354\n",
      "Epoch 30/100\n",
      "891/891 [==============================] - 0s 41us/step - loss: 0.5321 - acc: 0.5028\n",
      "Epoch 31/100\n",
      "891/891 [==============================] - 0s 55us/step - loss: 0.5321 - acc: 0.5455\n",
      "Epoch 32/100\n",
      "891/891 [==============================] - 0s 39us/step - loss: 0.5321 - acc: 0.5455\n",
      "Epoch 33/100\n",
      "891/891 [==============================] - 0s 43us/step - loss: 0.5321 - acc: 0.4882\n",
      "Epoch 34/100\n",
      "891/891 [==============================] - 0s 44us/step - loss: 0.5321 - acc: 0.5477\n",
      "Epoch 35/100\n",
      "891/891 [==============================] - 0s 46us/step - loss: 0.5321 - acc: 0.5477\n",
      "Epoch 36/100\n",
      "891/891 [==============================] - 0s 38us/step - loss: 0.5321 - acc: 0.5006\n",
      "Epoch 37/100\n",
      "891/891 [==============================] - 0s 53us/step - loss: 0.5321 - acc: 0.5488\n",
      "Epoch 38/100\n",
      "891/891 [==============================] - 0s 54us/step - loss: 0.5321 - acc: 0.5342\n",
      "Epoch 39/100\n",
      "891/891 [==============================] - 0s 42us/step - loss: 0.5321 - acc: 0.5241\n",
      "Epoch 40/100\n",
      "891/891 [==============================] - 0s 49us/step - loss: 0.5321 - acc: 0.5679\n",
      "Epoch 41/100\n",
      "891/891 [==============================] - 0s 38us/step - loss: 0.5321 - acc: 0.5241\n",
      "Epoch 42/100\n",
      "891/891 [==============================] - 0s 55us/step - loss: 0.5321 - acc: 0.5376\n",
      "Epoch 43/100\n",
      "891/891 [==============================] - 0s 39us/step - loss: 0.5321 - acc: 0.4949\n",
      "Epoch 44/100\n",
      "891/891 [==============================] - 0s 55us/step - loss: 0.5321 - acc: 0.4972\n",
      "Epoch 45/100\n",
      "891/891 [==============================] - 0s 45us/step - loss: 0.5321 - acc: 0.6105\n",
      "Epoch 46/100\n",
      "891/891 [==============================] - 0s 46us/step - loss: 0.5321 - acc: 0.5466\n",
      "Epoch 47/100\n",
      "891/891 [==============================] - 0s 57us/step - loss: 0.5321 - acc: 0.5118\n",
      "Epoch 48/100\n",
      "891/891 [==============================] - 0s 55us/step - loss: 0.5321 - acc: 0.5679\n",
      "Epoch 49/100\n",
      "891/891 [==============================] - 0s 57us/step - loss: 0.5321 - acc: 0.5152\n",
      "Epoch 50/100\n",
      "891/891 [==============================] - 0s 44us/step - loss: 0.5321 - acc: 0.5511\n",
      "Epoch 51/100\n",
      "891/891 [==============================] - 0s 44us/step - loss: 0.5321 - acc: 0.5129\n",
      "Epoch 52/100\n",
      "891/891 [==============================] - 0s 59us/step - loss: 0.5321 - acc: 0.5073\n",
      "Epoch 53/100\n",
      "891/891 [==============================] - 0s 53us/step - loss: 0.5321 - acc: 0.5488\n",
      "Epoch 54/100\n",
      "891/891 [==============================] - 0s 48us/step - loss: 0.5321 - acc: 0.5286\n",
      "Epoch 55/100\n",
      "891/891 [==============================] - 0s 37us/step - loss: 0.5321 - acc: 0.5937\n",
      "Epoch 56/100\n",
      "891/891 [==============================] - 0s 48us/step - loss: 0.5321 - acc: 0.4669\n",
      "Epoch 57/100\n",
      "891/891 [==============================] - 0s 53us/step - loss: 0.5321 - acc: 0.5903\n",
      "Epoch 58/100\n",
      "891/891 [==============================] - 0s 43us/step - loss: 0.5321 - acc: 0.5410\n",
      "Epoch 59/100\n",
      "891/891 [==============================] - 0s 36us/step - loss: 0.5321 - acc: 0.5185\n",
      "Epoch 60/100\n",
      "891/891 [==============================] - 0s 35us/step - loss: 0.5321 - acc: 0.5421\n",
      "Epoch 61/100\n",
      "891/891 [==============================] - 0s 70us/step - loss: 0.5321 - acc: 0.5297\n",
      "Epoch 62/100\n",
      "891/891 [==============================] - 0s 69us/step - loss: 0.5321 - acc: 0.6251\n",
      "Epoch 63/100\n",
      "891/891 [==============================] - 0s 60us/step - loss: 0.5321 - acc: 0.5017\n",
      "Epoch 64/100\n",
      "891/891 [==============================] - 0s 50us/step - loss: 0.5321 - acc: 0.5196\n",
      "Epoch 65/100\n",
      "891/891 [==============================] - 0s 43us/step - loss: 0.5321 - acc: 0.5297\n",
      "Epoch 66/100\n",
      "891/891 [==============================] - 0s 41us/step - loss: 0.5321 - acc: 0.5724\n",
      "Epoch 67/100\n",
      "891/891 [==============================] - 0s 33us/step - loss: 0.5321 - acc: 0.5455\n",
      "Epoch 68/100\n",
      "891/891 [==============================] - 0s 39us/step - loss: 0.5321 - acc: 0.4837\n",
      "Epoch 69/100\n",
      "891/891 [==============================] - 0s 35us/step - loss: 0.5321 - acc: 0.5421\n",
      "Epoch 70/100\n",
      "891/891 [==============================] - 0s 46us/step - loss: 0.5321 - acc: 0.5163\n",
      "Epoch 71/100\n",
      "891/891 [==============================] - 0s 36us/step - loss: 0.5321 - acc: 0.5297\n",
      "Epoch 72/100\n",
      "891/891 [==============================] - 0s 41us/step - loss: 0.5321 - acc: 0.5690\n",
      "Epoch 73/100\n",
      "891/891 [==============================] - 0s 43us/step - loss: 0.5321 - acc: 0.5657\n",
      "Epoch 74/100\n",
      "891/891 [==============================] - 0s 40us/step - loss: 0.5321 - acc: 0.5163\n",
      "Epoch 75/100\n",
      "891/891 [==============================] - 0s 35us/step - loss: 0.5321 - acc: 0.5140\n",
      "Epoch 76/100\n",
      "891/891 [==============================] - 0s 41us/step - loss: 0.5321 - acc: 0.4994\n",
      "Epoch 77/100\n",
      "891/891 [==============================] - 0s 39us/step - loss: 0.5321 - acc: 0.5690\n",
      "Epoch 78/100\n",
      "891/891 [==============================] - 0s 37us/step - loss: 0.5321 - acc: 0.5376\n",
      "Epoch 79/100\n",
      "891/891 [==============================] - 0s 39us/step - loss: 0.5321 - acc: 0.5410\n",
      "Epoch 80/100\n",
      "891/891 [==============================] - 0s 43us/step - loss: 0.5321 - acc: 0.5780\n",
      "Epoch 81/100\n",
      "891/891 [==============================] - 0s 37us/step - loss: 0.5321 - acc: 0.5589\n",
      "Epoch 82/100\n",
      "891/891 [==============================] - 0s 31us/step - loss: 0.5321 - acc: 0.5668\n",
      "Epoch 83/100\n",
      "891/891 [==============================] - 0s 40us/step - loss: 0.5321 - acc: 0.5421\n",
      "Epoch 84/100\n"
     ]
    },
    {
     "name": "stdout",
     "output_type": "stream",
     "text": [
      "891/891 [==============================] - 0s 45us/step - loss: 0.5321 - acc: 0.5612\n",
      "Epoch 85/100\n",
      "891/891 [==============================] - 0s 35us/step - loss: 0.5321 - acc: 0.5342\n",
      "Epoch 86/100\n",
      "891/891 [==============================] - 0s 43us/step - loss: 0.5321 - acc: 0.4815\n",
      "Epoch 87/100\n",
      "891/891 [==============================] - 0s 42us/step - loss: 0.5321 - acc: 0.5196\n",
      "Epoch 88/100\n",
      "891/891 [==============================] - 0s 71us/step - loss: 0.5321 - acc: 0.4961\n",
      "Epoch 89/100\n",
      "891/891 [==============================] - 0s 75us/step - loss: 0.5321 - acc: 0.5544\n",
      "Epoch 90/100\n",
      "891/891 [==============================] - 0s 56us/step - loss: 0.5321 - acc: 0.5511\n",
      "Epoch 91/100\n",
      "891/891 [==============================] - 0s 48us/step - loss: 0.5321 - acc: 0.5926\n",
      "Epoch 92/100\n",
      "891/891 [==============================] - 0s 38us/step - loss: 0.5321 - acc: 0.5477\n",
      "Epoch 93/100\n",
      "891/891 [==============================] - 0s 39us/step - loss: 0.5321 - acc: 0.4714\n",
      "Epoch 94/100\n",
      "891/891 [==============================] - 0s 39us/step - loss: 0.5321 - acc: 0.5152\n",
      "Epoch 95/100\n",
      "891/891 [==============================] - 0s 41us/step - loss: 0.5321 - acc: 0.5152\n",
      "Epoch 96/100\n",
      "891/891 [==============================] - 0s 47us/step - loss: 0.5321 - acc: 0.5847\n",
      "Epoch 97/100\n",
      "891/891 [==============================] - 0s 46us/step - loss: 0.5321 - acc: 0.4770\n",
      "Epoch 98/100\n",
      "891/891 [==============================] - 0s 47us/step - loss: 0.5321 - acc: 0.5410\n",
      "Epoch 99/100\n",
      "891/891 [==============================] - 0s 49us/step - loss: 0.5321 - acc: 0.5297\n",
      "Epoch 100/100\n",
      "891/891 [==============================] - 0s 43us/step - loss: 0.5321 - acc: 0.5443\n"
     ]
    },
    {
     "data": {
      "text/plain": [
       "<tensorflow.python.keras.callbacks.History at 0x7fef7c143cf8>"
      ]
     },
     "execution_count": 87,
     "metadata": {},
     "output_type": "execute_result"
    }
   ],
   "source": [
    "model.fit(X_train.values, y_train.values, epochs=100)"
   ]
  },
  {
   "cell_type": "code",
   "execution_count": 75,
   "metadata": {},
   "outputs": [],
   "source": [
    "y_pred = model.predict(X_test.values)"
   ]
  },
  {
   "cell_type": "code",
   "execution_count": 81,
   "metadata": {},
   "outputs": [],
   "source": [
    "y_pred = y_pred.argmax(axis=1)"
   ]
  },
  {
   "cell_type": "code",
   "execution_count": 82,
   "metadata": {},
   "outputs": [],
   "source": [
    "df_test['Survived'] = y_pred\n",
    "preds = df_test.loc[:, ['PassengerId','Survived']]"
   ]
  },
  {
   "cell_type": "code",
   "execution_count": 84,
   "metadata": {},
   "outputs": [],
   "source": [
    "preds.to_csv('preds.csv', index=False)"
   ]
  },
  {
   "cell_type": "code",
   "execution_count": null,
   "metadata": {},
   "outputs": [],
   "source": []
  }
 ],
 "metadata": {
  "kernelspec": {
   "display_name": "Python 3",
   "language": "python",
   "name": "python3"
  },
  "language_info": {
   "codemirror_mode": {
    "name": "ipython",
    "version": 3
   },
   "file_extension": ".py",
   "mimetype": "text/x-python",
   "name": "python",
   "nbconvert_exporter": "python",
   "pygments_lexer": "ipython3",
   "version": "3.6.5"
  }
 },
 "nbformat": 4,
 "nbformat_minor": 2
}
